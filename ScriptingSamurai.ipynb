{
 "cells": [
  {
   "cell_type": "code",
   "execution_count": 2,
   "metadata": {},
   "outputs": [
    {
     "data": {
      "text/plain": [
       "'\\nProjenizde Mutlaka Bulunması Gereken Yapılar\\nEn az bir tane class yapısı olmalı.\\nEn az bir tane karar kontrol yapısı kullanmalısınız.\\nEn az bir tane döngü kullanmalısınız.\\nEn az bir tane girdi almalısınız.\\nEn az bir tane hata kontrolü yapmalısınız.\\nEn az bir tane değişken tanımlamalısınız.\\nEn az bir fonksiyon yazmalısınız.\\n'"
      ]
     },
     "execution_count": 2,
     "metadata": {},
     "output_type": "execute_result"
    }
   ],
   "source": [
    "\"\"\"\n",
    "Projenizde Mutlaka Bulunması Gereken Yapılar\n",
    "En az bir tane class yapısı olmalı.\n",
    "En az bir tane karar kontrol yapısı kullanmalısınız.\n",
    "En az bir tane döngü kullanmalısınız.\n",
    "En az bir tane girdi almalısınız.\n",
    "En az bir tane hata kontrolü yapmalısınız.\n",
    "En az bir tane değişken tanımlamalısınız.\n",
    "En az bir fonksiyon yazmalısınız.\n",
    "\"\"\""
   ]
  },
  {
   "cell_type": "code",
   "execution_count": null,
   "metadata": {},
   "outputs": [],
   "source": [
    "menu = {\"pizza\": 25, \"çorba\": 30, \"makarna\": 40, \"kuru fasulye\": 7, \"pilav\": 50}\n",
    "print(\"=====MENU=====\")\n",
    "for i in list(menu.keys()):\n",
    "    print(f\"{i} : {menu[i]}\")\n",
    "print(\"==========\")\n",
    "adS = input(\"Lütfen isim-soyisim giriniz\")\n",
    "Budget = int(input(\"Lütfen bütçenizi giriniz: \"))\n",
    "kisi = int(input(\"Lütfen kaç kişinin sipariş vereceğini giriniz: \"))\n",
    "class Menu:\n",
    "  def __init__(self,isim,fiyat, icindekiler):\n",
    "    self.isim = isim\n",
    "    self.fiyat = fiyat\n",
    "    self.icindekiler = icindekiler\n",
    "class Pizza(Menu):\n",
    "  def __init__(self, isim, fiyat, icindekiler,boy,kenar,sos):\n",
    "      super().__init__(isim, fiyat, icindekiler)\n",
    "      self.boy = boy\n",
    "      self.kenar = kenar\n",
    "      self.sos = sos\n",
    "  def SiparisGoster(self):\n",
    "          return f\"AD-Soyad:{adS}, Sipaariş: {self.isim}, Fiyat:{self.fiyat}, İçindekiler: {self.icindekiler}, Boyut: {self.boy}, Kenarı: {self.kenar}, Sosu: {self.sos}, Kalan Bütçe: {Budget-self.fiyat}\"\n",
    "class Çorba(Menu):\n",
    "    def __init__(self, isim, fiyat, icindekiler, baharat):\n",
    "      super().__init__(isim, fiyat, icindekiler)\n",
    "      self.baharat = baharat\n",
    "    def SiparisGoster(self):\n",
    "          return f\"AD-Soyad:{adS}, Sipaariş: {self.isim}, Fiyat:{self.fiyat}, İçindekiler: {self.icindekiler},Baharatı: {self.baharat}, Kalan Bütçe: {Budget-self.fiyat}\"\n",
    "class Makarna(Menu):\n",
    "    def __init__(self, isim, fiyat, icindekiler,sos):\n",
    "      super().__init__(isim, fiyat, icindekiler)\n",
    "      self.sos = sos\n",
    "    def SiparisGoster(self):\n",
    "           return f\"AD-Soyad:{adS}, Sipaariş: {self.isim}, Fiyat:{self.fiyat}, İçindekiler: {self.icindekiler}, Kalan Bütçe: {Budget-self.fiyat}\"\n",
    "class Kuru_Fasulye(Menu):\n",
    "    def __init__(self, isim, fiyat, icindekiler):\n",
    "      super().__init__(isim, fiyat, icindekiler)\n",
    "    def SiparisGoster(self):\n",
    "            return f\"AD-Soyad:{adS}, Sipaariş: {self.isim}, Fiyat:{self.fiyat}, İçindekiler: {self.icindekiler}, Kalan Bütçe: {Budget-self.fiyat}\"\n",
    "class Pilav(Menu):\n",
    "    def __init__(self, isim, fiyat, icindekiler,cesit):\n",
    "      super().__init__(isim, fiyat, icindekiler)\n",
    "      self.cesit = cesit\n",
    "    def SiparisGoster(self):\n",
    "            return f\"AD-Soyad:{adS}, Sipaariş: {self.isim}, Fiyat:{self.fiyat}, İçindekiler: {self.icindekiler}, Sosu: {self.sos}, Kalan Bütçe: {Budget-self.fiyat}\"\n",
    "pizza = Pizza()\n",
    "while True:\n",
    "    secim = int(input(\"Sipariş vermek istiyorsanız lütfen 1'e , sipariş vermek istemiyorsanız lütfen 0'a basın.\"))\n",
    "    if secim == 1:\n",
    "        urun = input(\"Sıparıs vermek ıstedıgınız urunu secın: \")\n",
    "        prınt(\"MENU\")\n",
    "\n",
    "\n",
    "        if urun == \"pizza\":\n",
    "          boy =input(\"Lütfen boyutunu giriniz:\")\n",
    "          kenar = input(\"Lütfen kenarı giriniz:\")\n",
    "         pizza = Pizza(,boy=boy, kenar= kenar)\n",
    "    \n",
    "    elif secim == 0:\n",
    "      break\n",
    "\n",
    "\n",
    "\n",
    "#bunu görebiliyorsan altına evet yaz\n",
    "\n",
    "#yemek = input(\"Lütfen yemek istediğiniz yemeğin ismini giriniz:\")\n",
    "#cesit = input(\"Yemek istediğniz yemeğin çeşidini giriniz: \")\n",
    "#sos = input(\"Yemek istediğniz yemeğin sos çeşidini giriniz: \")\n",
    "#boyut = input(\"Yemek istediğniz boyutunu çeşidini giriniz: \")\n",
    "#kcesit = input(\"Yemek istediğniz yemeğin kenar çeşidini giriniz: \")\n",
    "#ic = input(\"Yemek istediğniz yemeğin içindekilerini giriniz: \")"
   ]
  }
 ],
 "metadata": {
  "kernelspec": {
   "display_name": "Python 3",
   "language": "python",
   "name": "python3"
  },
  "language_info": {
   "codemirror_mode": {
    "name": "ipython",
    "version": 3
   },
   "file_extension": ".py",
   "mimetype": "text/x-python",
   "name": "python",
   "nbconvert_exporter": "python",
   "pygments_lexer": "ipython3",
   "version": "3.11.1"
  },
  "orig_nbformat": 4
 },
 "nbformat": 4,
 "nbformat_minor": 2
}
