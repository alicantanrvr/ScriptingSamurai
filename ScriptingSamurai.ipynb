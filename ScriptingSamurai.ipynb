{
 "cells": [
  {
   "cell_type": "code",
   "execution_count": 2,
   "metadata": {},
   "outputs": [
    {
     "data": {
      "text/plain": [
       "'\\nProjenizde Mutlaka Bulunması Gereken Yapılar\\nEn az bir tane class yapısı olmalı.\\nEn az bir tane karar kontrol yapısı kullanmalısınız.\\nEn az bir tane döngü kullanmalısınız.\\nEn az bir tane girdi almalısınız.\\nEn az bir tane hata kontrolü yapmalısınız.\\nEn az bir tane değişken tanımlamalısınız.\\nEn az bir fonksiyon yazmalısınız.\\n'"
      ]
     },
     "execution_count": 2,
     "metadata": {},
     "output_type": "execute_result"
    }
   ],
   "source": [
    "\"\"\"\n",
    "Projenizde Mutlaka Bulunması Gereken Yapılar\n",
    "En az bir tane class yapısı olmalı.\n",
    "En az bir tane karar kontrol yapısı kullanmalısınız.\n",
    "En az bir tane döngü kullanmalısınız.\n",
    "En az bir tane girdi almalısınız.\n",
    "En az bir tane hata kontrolü yapmalısınız.\n",
    "En az bir tane değişken tanımlamalısınız.\n",
    "En az bir fonksiyon yazmalısınız.\n",
    "\"\"\""
   ]
  }
 ],
 "metadata": {
  "kernelspec": {
   "display_name": "Python 3",
   "language": "python",
   "name": "python3"
  },
  "language_info": {
   "codemirror_mode": {
    "name": "ipython",
    "version": 3
   },
   "file_extension": ".py",
   "mimetype": "text/x-python",
   "name": "python",
   "nbconvert_exporter": "python",
   "pygments_lexer": "ipython3",
   "version": "3.11.1"
  },
  "orig_nbformat": 4
 },
 "nbformat": 4,
 "nbformat_minor": 2
}
